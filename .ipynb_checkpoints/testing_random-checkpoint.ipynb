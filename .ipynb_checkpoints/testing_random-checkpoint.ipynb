{
 "metadata": {
  "name": "",
  "signature": "sha256:47079a5cc2b34d0b412196a164c676ead4748daed143145f6e83d4d5c5891806"
 },
 "nbformat": 3,
 "nbformat_minor": 0,
 "worksheets": []
}